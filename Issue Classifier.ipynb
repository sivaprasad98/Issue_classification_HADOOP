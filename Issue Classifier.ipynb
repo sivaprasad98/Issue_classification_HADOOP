{
 "cells": [
  {
   "cell_type": "markdown",
   "id": "af6c73bf",
   "metadata": {},
   "source": [
    "# Dataset Creation"
   ]
  },
  {
   "cell_type": "code",
   "execution_count": 1,
   "id": "52c00f5e",
   "metadata": {},
   "outputs": [],
   "source": [
    "# 1) Creating the dataset using API calls to the Jira platform for the HADOOP projects\n",
    "# Importing required libraries"
   ]
  },
  {
   "cell_type": "code",
   "execution_count": 2,
   "id": "0741cf5b",
   "metadata": {},
   "outputs": [
    {
     "name": "stdout",
     "output_type": "stream",
     "text": [
      "Requirement already satisfied: jira in c:\\users\\siva\\appdata\\local\\programs\\python\\python37\\lib\\site-packages (3.1.1)\n",
      "Requirement already satisfied: requests-oauthlib>=1.1.0 in c:\\users\\siva\\appdata\\local\\programs\\python\\python37\\lib\\site-packages (from jira) (1.3.1)\n",
      "Requirement already satisfied: requests>=2.10.0 in c:\\users\\siva\\appdata\\local\\programs\\python\\python37\\lib\\site-packages (from jira) (2.27.1)\n",
      "Requirement already satisfied: defusedxml in c:\\users\\siva\\appdata\\local\\programs\\python\\python37\\lib\\site-packages (from jira) (0.7.1)\n",
      "Requirement already satisfied: requests-toolbelt in c:\\users\\siva\\appdata\\local\\programs\\python\\python37\\lib\\site-packages (from jira) (0.9.1)\n",
      "Requirement already satisfied: setuptools>=20.10.1 in c:\\users\\siva\\appdata\\local\\programs\\python\\python37\\lib\\site-packages (from jira) (47.1.0)\n",
      "Requirement already satisfied: keyring in c:\\users\\siva\\appdata\\local\\programs\\python\\python37\\lib\\site-packages (from jira) (23.5.0)\n",
      "Requirement already satisfied: charset-normalizer~=2.0.0 in c:\\users\\siva\\appdata\\local\\programs\\python\\python37\\lib\\site-packages (from requests>=2.10.0->jira) (2.0.12)\n",
      "Requirement already satisfied: certifi>=2017.4.17 in c:\\users\\siva\\appdata\\local\\programs\\python\\python37\\lib\\site-packages (from requests>=2.10.0->jira) (2021.10.8)\n",
      "Requirement already satisfied: idna<4,>=2.5 in c:\\users\\siva\\appdata\\local\\programs\\python\\python37\\lib\\site-packages (from requests>=2.10.0->jira) (3.3)\n",
      "Requirement already satisfied: urllib3<1.27,>=1.21.1 in c:\\users\\siva\\appdata\\local\\programs\\python\\python37\\lib\\site-packages (from requests>=2.10.0->jira) (1.26.8)\n",
      "Requirement already satisfied: oauthlib>=3.0.0 in c:\\users\\siva\\appdata\\local\\programs\\python\\python37\\lib\\site-packages (from requests-oauthlib>=1.1.0->jira) (3.2.0)\n",
      "Requirement already satisfied: importlib-metadata>=3.6 in c:\\users\\siva\\appdata\\local\\programs\\python\\python37\\lib\\site-packages (from keyring->jira) (4.11.2)\n",
      "Requirement already satisfied: pywin32-ctypes!=0.1.0,!=0.1.1 in c:\\users\\siva\\appdata\\local\\programs\\python\\python37\\lib\\site-packages (from keyring->jira) (0.2.0)\n",
      "Requirement already satisfied: zipp>=0.5 in c:\\users\\siva\\appdata\\local\\programs\\python\\python37\\lib\\site-packages (from importlib-metadata>=3.6->keyring->jira) (3.7.0)\n",
      "Requirement already satisfied: typing-extensions>=3.6.4 in c:\\users\\siva\\appdata\\local\\programs\\python\\python37\\lib\\site-packages (from importlib-metadata>=3.6->keyring->jira) (3.10.0.2)\n"
     ]
    },
    {
     "name": "stderr",
     "output_type": "stream",
     "text": [
      "WARNING: Ignoring invalid distribution -ip (c:\\users\\siva\\appdata\\local\\programs\\python\\python37\\lib\\site-packages)\n",
      "WARNING: Ignoring invalid distribution -ip (c:\\users\\siva\\appdata\\local\\programs\\python\\python37\\lib\\site-packages)\n",
      "WARNING: Ignoring invalid distribution -ip (c:\\users\\siva\\appdata\\local\\programs\\python\\python37\\lib\\site-packages)\n",
      "WARNING: Ignoring invalid distribution -ip (c:\\users\\siva\\appdata\\local\\programs\\python\\python37\\lib\\site-packages)\n",
      "WARNING: Ignoring invalid distribution -ip (c:\\users\\siva\\appdata\\local\\programs\\python\\python37\\lib\\site-packages)\n"
     ]
    }
   ],
   "source": [
    "!pip install jira\n",
    "from jira import JIRA\n",
    "import pprint\n",
    "import pandas as pd"
   ]
  },
  {
   "cell_type": "code",
   "execution_count": 3,
   "id": "ca5eaed9",
   "metadata": {},
   "outputs": [
    {
     "name": "stderr",
     "output_type": "stream",
     "text": [
      "c:\\users\\siva\\appdata\\local\\programs\\python\\python37\\lib\\site-packages\\urllib3\\connectionpool.py:1050: InsecureRequestWarning: Unverified HTTPS request is being made to host 'issues.apache.org'. Adding certificate verification is strongly advised. See: https://urllib3.readthedocs.io/en/1.26.x/advanced-usage.html#ssl-warnings\n",
      "  InsecureRequestWarning,\n",
      "c:\\users\\siva\\appdata\\local\\programs\\python\\python37\\lib\\site-packages\\urllib3\\connectionpool.py:1050: InsecureRequestWarning: Unverified HTTPS request is being made to host 'issues.apache.org'. Adding certificate verification is strongly advised. See: https://urllib3.readthedocs.io/en/1.26.x/advanced-usage.html#ssl-warnings\n",
      "  InsecureRequestWarning,\n",
      "c:\\users\\siva\\appdata\\local\\programs\\python\\python37\\lib\\site-packages\\urllib3\\connectionpool.py:1050: InsecureRequestWarning: Unverified HTTPS request is being made to host 'issues.apache.org'. Adding certificate verification is strongly advised. See: https://urllib3.readthedocs.io/en/1.26.x/advanced-usage.html#ssl-warnings\n",
      "  InsecureRequestWarning,\n"
     ]
    }
   ],
   "source": [
    "# Intializing server connections to the Jira platform\n",
    "# Writing the accquired data to a dataframe with required columns to classify the type of issues\n",
    "options = {\"server\": \"https://issues.apache.org/jira\",'verify':False}\n",
    "conn = JIRA(options)\n",
    "project_str = 'project=\"HADOOP\"'\n",
    "issues = conn.search_issues(project_str,startAt=0,maxResults=1000)\n",
    "# define dataframe to store data\n",
    "df = pd.DataFrame(columns=[\"title\", \"description\", \"priority\"])\n",
    "for index, issue in enumerate(issues):\n",
    "  issue_dict = issue.raw[\"fields\"]\n",
    "  df.loc[index] = [issue_dict['summary'],issue_dict['description'],issue_dict['priority']['name']]"
   ]
  },
  {
   "cell_type": "code",
   "execution_count": 4,
   "id": "b7fe91a5",
   "metadata": {},
   "outputs": [
    {
     "name": "stderr",
     "output_type": "stream",
     "text": [
      "c:\\users\\siva\\appdata\\local\\programs\\python\\python37\\lib\\site-packages\\ipykernel_launcher.py:4: FutureWarning: The default value of regex will change from True to False in a future version.\n",
      "  after removing the cwd from sys.path.\n",
      "c:\\users\\siva\\appdata\\local\\programs\\python\\python37\\lib\\site-packages\\ipykernel_launcher.py:5: FutureWarning: The default value of regex will change from True to False in a future version.\n",
      "  \"\"\"\n",
      "c:\\users\\siva\\appdata\\local\\programs\\python\\python37\\lib\\site-packages\\ipykernel_launcher.py:6: FutureWarning: The default value of regex will change from True to False in a future version.\n",
      "  \n",
      "c:\\users\\siva\\appdata\\local\\programs\\python\\python37\\lib\\site-packages\\ipykernel_launcher.py:7: FutureWarning: The default value of regex will change from True to False in a future version.\n",
      "  import sys\n"
     ]
    }
   ],
   "source": [
    "# Cleaning up the dataset and creating necessary labels\n",
    "df['features'] = df['title'] + \" \" + df['description']\n",
    "df1 = df.copy()\n",
    "df1.features = df1.features.str.replace(r\"[\\n\\r\\t]+\", \" \")\n",
    "df1.features = df1.features.str.replace(r\"([a-zA-Z0-9_\\-\\.]+)@([a-zA-Z0-9_\\-\\.]+)\\.([a-zA-Z]{2,5})\", \" \")\n",
    "df1.features = df1.features.str.replace(r\"((http[s]?|ftp):\\/)?\\/?([^:\\/\\s]+)((\\/\\w+)*\\/)([\\w\\-\\.]+[^#?\\s]+)(.*)?(#[\\w\\-]+)?\", \" \")\n",
    "df1.features = df1.features.str.replace(r\"([0-9]+)\", \" \")\n",
    "df1['b_labels'] = df1['priority'].map({'Trivial': 0, 'Minor': 1, 'Major': 2, 'Blocker': 3, 'Critical': 4})\n",
    "Y = df1['b_labels'].values\n"
   ]
  },
  {
   "cell_type": "code",
   "execution_count": 5,
   "id": "9c33fabb",
   "metadata": {},
   "outputs": [],
   "source": [
    "# Saving the dataframe as a csv file\n",
    "df1.to_csv('JIRA_HADOOP.csv')"
   ]
  },
  {
   "cell_type": "markdown",
   "id": "964e0829",
   "metadata": {},
   "source": [
    "# Building the Pytorch Model"
   ]
  },
  {
   "cell_type": "code",
   "execution_count": 6,
   "id": "c4b3134a",
   "metadata": {},
   "outputs": [],
   "source": [
    "# Importing necessary libraries for the creation of the Pytorch Model\n",
    "import torch\n",
    "import torch.nn as nn\n",
    "import pandas as pd\n",
    "import numpy as np\n",
    "import re\n",
    "import spacy\n",
    "from collections import Counter\n",
    "from torch.utils.data import Dataset, DataLoader\n",
    "import torch.nn.functional as F\n",
    "import string\n",
    "from torch.nn.utils.rnn import pack_padded_sequence, pad_packed_sequence\n",
    "from sklearn.metrics import mean_squared_error"
   ]
  },
  {
   "cell_type": "code",
   "execution_count": 7,
   "id": "b1eb6ea0",
   "metadata": {},
   "outputs": [
    {
     "name": "stdout",
     "output_type": "stream",
     "text": [
      "(1000, 6)\n"
     ]
    },
    {
     "data": {
      "text/html": [
       "<div>\n",
       "<style scoped>\n",
       "    .dataframe tbody tr th:only-of-type {\n",
       "        vertical-align: middle;\n",
       "    }\n",
       "\n",
       "    .dataframe tbody tr th {\n",
       "        vertical-align: top;\n",
       "    }\n",
       "\n",
       "    .dataframe thead th {\n",
       "        text-align: right;\n",
       "    }\n",
       "</style>\n",
       "<table border=\"1\" class=\"dataframe\">\n",
       "  <thead>\n",
       "    <tr style=\"text-align: right;\">\n",
       "      <th></th>\n",
       "      <th>Unnamed: 0</th>\n",
       "      <th>title</th>\n",
       "      <th>description</th>\n",
       "      <th>priority</th>\n",
       "      <th>features</th>\n",
       "      <th>b_labels</th>\n",
       "    </tr>\n",
       "  </thead>\n",
       "  <tbody>\n",
       "    <tr>\n",
       "      <th>0</th>\n",
       "      <td>0</td>\n",
       "      <td>upgrade jackson-databind to 2.13.2.1 due to cve</td>\n",
       "      <td>https://github.com/FasterXML/jackson-databind/...</td>\n",
       "      <td>Major</td>\n",
       "      <td>upgrade jackson-databind to  . . .  due to cve</td>\n",
       "      <td>2</td>\n",
       "    </tr>\n",
       "    <tr>\n",
       "      <th>1</th>\n",
       "      <td>1</td>\n",
       "      <td>document use and design of prefetching s3a inp...</td>\n",
       "      <td>Document S3PrefetchingInputStream for users  (...</td>\n",
       "      <td>Major</td>\n",
       "      <td>document use and design of prefetching s a inp...</td>\n",
       "      <td>2</td>\n",
       "    </tr>\n",
       "    <tr>\n",
       "      <th>2</th>\n",
       "      <td>2</td>\n",
       "      <td>s3a prefetching stream to move off twitter Fut...</td>\n",
       "      <td>This has to be a blocker for the merge I'm afr...</td>\n",
       "      <td>Major</td>\n",
       "      <td>s a prefetching stream to move off twitter Fut...</td>\n",
       "      <td>2</td>\n",
       "    </tr>\n",
       "    <tr>\n",
       "      <th>3</th>\n",
       "      <td>3</td>\n",
       "      <td>test failures with prefetching s3a input stream</td>\n",
       "      <td>identify and fix all test regressions from the...</td>\n",
       "      <td>Major</td>\n",
       "      <td>test failures with prefetching s a input strea...</td>\n",
       "      <td>2</td>\n",
       "    </tr>\n",
       "    <tr>\n",
       "      <th>4</th>\n",
       "      <td>4</td>\n",
       "      <td>IBM Java detected while running on OpenJDK cla...</td>\n",
       "      <td>In our project we are using hadoop-client libr...</td>\n",
       "      <td>Major</td>\n",
       "      <td>IBM Java detected while running on OpenJDK cla...</td>\n",
       "      <td>2</td>\n",
       "    </tr>\n",
       "  </tbody>\n",
       "</table>\n",
       "</div>"
      ],
      "text/plain": [
       "   Unnamed: 0                                              title  \\\n",
       "0           0    upgrade jackson-databind to 2.13.2.1 due to cve   \n",
       "1           1  document use and design of prefetching s3a inp...   \n",
       "2           2  s3a prefetching stream to move off twitter Fut...   \n",
       "3           3    test failures with prefetching s3a input stream   \n",
       "4           4  IBM Java detected while running on OpenJDK cla...   \n",
       "\n",
       "                                         description priority  \\\n",
       "0  https://github.com/FasterXML/jackson-databind/...    Major   \n",
       "1  Document S3PrefetchingInputStream for users  (...    Major   \n",
       "2  This has to be a blocker for the merge I'm afr...    Major   \n",
       "3  identify and fix all test regressions from the...    Major   \n",
       "4  In our project we are using hadoop-client libr...    Major   \n",
       "\n",
       "                                            features  b_labels  \n",
       "0   upgrade jackson-databind to  . . .  due to cve           2  \n",
       "1  document use and design of prefetching s a inp...         2  \n",
       "2  s a prefetching stream to move off twitter Fut...         2  \n",
       "3  test failures with prefetching s a input strea...         2  \n",
       "4  IBM Java detected while running on OpenJDK cla...         2  "
      ]
     },
     "execution_count": 7,
     "metadata": {},
     "output_type": "execute_result"
    }
   ],
   "source": [
    "# Loading the data from the csv file and previewing\n",
    "data = pd.read_csv(\"JIRA_HADOOP.csv\")\n",
    "print(data.shape)\n",
    "data.head()"
   ]
  },
  {
   "cell_type": "code",
   "execution_count": 8,
   "id": "387fbe25",
   "metadata": {},
   "outputs": [],
   "source": [
    "data['title'] = data['title'].fillna('')\n",
    "data['description'] = data['description'].fillna('')\n",
    "data['feature'] = data['title'] + ' ' + data['description']"
   ]
  },
  {
   "cell_type": "code",
   "execution_count": 9,
   "id": "9a313b92",
   "metadata": {},
   "outputs": [
    {
     "data": {
      "text/html": [
       "<div>\n",
       "<style scoped>\n",
       "    .dataframe tbody tr th:only-of-type {\n",
       "        vertical-align: middle;\n",
       "    }\n",
       "\n",
       "    .dataframe tbody tr th {\n",
       "        vertical-align: top;\n",
       "    }\n",
       "\n",
       "    .dataframe thead th {\n",
       "        text-align: right;\n",
       "    }\n",
       "</style>\n",
       "<table border=\"1\" class=\"dataframe\">\n",
       "  <thead>\n",
       "    <tr style=\"text-align: right;\">\n",
       "      <th></th>\n",
       "      <th>feature</th>\n",
       "      <th>b_labels</th>\n",
       "      <th>feature_length</th>\n",
       "    </tr>\n",
       "  </thead>\n",
       "  <tbody>\n",
       "    <tr>\n",
       "      <th>0</th>\n",
       "      <td>upgrade jackson-databind to 2.13.2.1 due to cv...</td>\n",
       "      <td>2</td>\n",
       "      <td>8</td>\n",
       "    </tr>\n",
       "    <tr>\n",
       "      <th>1</th>\n",
       "      <td>document use and design of prefetching s3a inp...</td>\n",
       "      <td>2</td>\n",
       "      <td>31</td>\n",
       "    </tr>\n",
       "    <tr>\n",
       "      <th>2</th>\n",
       "      <td>s3a prefetching stream to move off twitter Fut...</td>\n",
       "      <td>2</td>\n",
       "      <td>86</td>\n",
       "    </tr>\n",
       "    <tr>\n",
       "      <th>3</th>\n",
       "      <td>test failures with prefetching s3a input strea...</td>\n",
       "      <td>2</td>\n",
       "      <td>19</td>\n",
       "    </tr>\n",
       "    <tr>\n",
       "      <th>4</th>\n",
       "      <td>IBM Java detected while running on OpenJDK cla...</td>\n",
       "      <td>2</td>\n",
       "      <td>389</td>\n",
       "    </tr>\n",
       "  </tbody>\n",
       "</table>\n",
       "</div>"
      ],
      "text/plain": [
       "                                             feature  b_labels  feature_length\n",
       "0  upgrade jackson-databind to 2.13.2.1 due to cv...         2               8\n",
       "1  document use and design of prefetching s3a inp...         2              31\n",
       "2  s3a prefetching stream to move off twitter Fut...         2              86\n",
       "3  test failures with prefetching s3a input strea...         2              19\n",
       "4  IBM Java detected while running on OpenJDK cla...         2             389"
      ]
     },
     "execution_count": 9,
     "metadata": {},
     "output_type": "execute_result"
    }
   ],
   "source": [
    "# Retaining relevant columns and Calculating sentence lengths\n",
    "data = data[['feature', 'b_labels']]\n",
    "data.columns = ['feature', 'b_labels']\n",
    "data['feature_length'] = data['feature'].apply(lambda x: len(x.split()))\n",
    "data.head()"
   ]
  },
  {
   "cell_type": "code",
   "execution_count": 10,
   "id": "5d6ca9f9",
   "metadata": {},
   "outputs": [
    {
     "data": {
      "text/plain": [
       "82.807"
      ]
     },
     "execution_count": 10,
     "metadata": {},
     "output_type": "execute_result"
    }
   ],
   "source": [
    "# Calculating the mean of the sentence length\n",
    "np.mean(data['feature_length'])"
   ]
  },
  {
   "cell_type": "code",
   "execution_count": 11,
   "id": "8278929f",
   "metadata": {},
   "outputs": [
    {
     "data": {
      "text/plain": [
       "2    705\n",
       "1    207\n",
       "4     31\n",
       "3     31\n",
       "0     26\n",
       "Name: b_labels, dtype: int64"
      ]
     },
     "execution_count": 11,
     "metadata": {},
     "output_type": "execute_result"
    }
   ],
   "source": [
    "# Checking the counts\n",
    "data['b_labels'].value_counts()"
   ]
  },
  {
   "cell_type": "code",
   "execution_count": 12,
   "id": "7f44ab3c",
   "metadata": {},
   "outputs": [],
   "source": [
    "# Tokenizing the sentences for further manipulation\n",
    "to = spacy.load('en_core_web_sm')\n",
    "def tokenize (text):\n",
    "    text = re.sub(r\"[^\\x00-\\x7F]+\", \" \", text)\n",
    "    regex = re.compile('[' + re.escape(string.punctuation) + '0-9\\\\r\\\\t\\\\n]') # remove punctuation and numbers\n",
    "    nopunct = regex.sub(\" \", text.lower())\n",
    "    return [token.text for token in to.tokenizer(nopunct)]"
   ]
  },
  {
   "cell_type": "code",
   "execution_count": 13,
   "id": "76c222e0",
   "metadata": {},
   "outputs": [],
   "source": [
    "# Taking the count number of occurences of each word\n",
    "counts = Counter()\n",
    "for index, row in data.iterrows():\n",
    "    counts.update(tokenize(row['feature']))"
   ]
  },
  {
   "cell_type": "code",
   "execution_count": 14,
   "id": "ead535fc",
   "metadata": {},
   "outputs": [
    {
     "name": "stdout",
     "output_type": "stream",
     "text": [
      "num_words before: 8319\n",
      "num_words after: 5154\n"
     ]
    }
   ],
   "source": [
    "# Removing infrequent words in the data\n",
    "print(\"num_words before:\",len(counts.keys()))\n",
    "for word in list(counts):\n",
    "    if counts[word] < 2:\n",
    "        del counts[word]\n",
    "print(\"num_words after:\",len(counts.keys()))"
   ]
  },
  {
   "cell_type": "code",
   "execution_count": 15,
   "id": "3f81cd57",
   "metadata": {},
   "outputs": [],
   "source": [
    "# Generation of the vocabulary base\n",
    "vocab2index = {\"\":0, \"UNK\":1}\n",
    "words = [\"\", \"UNK\"]\n",
    "for word in counts:\n",
    "    vocab2index[word] = len(words)\n",
    "    words.append(word)"
   ]
  },
  {
   "cell_type": "code",
   "execution_count": 16,
   "id": "38471e3c",
   "metadata": {},
   "outputs": [],
   "source": [
    "# Creation of the encoding function\n",
    "def encode_sentence(text, vocab2index, N=70):\n",
    "    tokenized = tokenize(text)\n",
    "    encoded = np.zeros(N, dtype=int)\n",
    "    enc1 = np.array([vocab2index.get(word, vocab2index[\"UNK\"]) for word in tokenized])\n",
    "    length = min(N, len(enc1))\n",
    "    encoded[:length] = enc1[:length]\n",
    "    return encoded, length"
   ]
  },
  {
   "cell_type": "code",
   "execution_count": 17,
   "id": "a020852e",
   "metadata": {},
   "outputs": [
    {
     "name": "stderr",
     "output_type": "stream",
     "text": [
      "c:\\users\\siva\\appdata\\local\\programs\\python\\python37\\lib\\site-packages\\ipykernel_launcher.py:1: VisibleDeprecationWarning: Creating an ndarray from ragged nested sequences (which is a list-or-tuple of lists-or-tuples-or ndarrays with different lengths or shapes) is deprecated. If you meant to do this, you must specify 'dtype=object' when creating the ndarray.\n",
      "  \"\"\"Entry point for launching an IPython kernel.\n"
     ]
    },
    {
     "data": {
      "text/html": [
       "<div>\n",
       "<style scoped>\n",
       "    .dataframe tbody tr th:only-of-type {\n",
       "        vertical-align: middle;\n",
       "    }\n",
       "\n",
       "    .dataframe tbody tr th {\n",
       "        vertical-align: top;\n",
       "    }\n",
       "\n",
       "    .dataframe thead th {\n",
       "        text-align: right;\n",
       "    }\n",
       "</style>\n",
       "<table border=\"1\" class=\"dataframe\">\n",
       "  <thead>\n",
       "    <tr style=\"text-align: right;\">\n",
       "      <th></th>\n",
       "      <th>feature</th>\n",
       "      <th>b_labels</th>\n",
       "      <th>feature_length</th>\n",
       "      <th>encoded</th>\n",
       "    </tr>\n",
       "  </thead>\n",
       "  <tbody>\n",
       "    <tr>\n",
       "      <th>0</th>\n",
       "      <td>upgrade jackson-databind to 2.13.2.1 due to cv...</td>\n",
       "      <td>2</td>\n",
       "      <td>8</td>\n",
       "      <td>[[2, 3, 4, 5, 6, 7, 5, 8, 9, 10, 11, 12, 13, 3...</td>\n",
       "    </tr>\n",
       "    <tr>\n",
       "      <th>1</th>\n",
       "      <td>document use and design of prefetching s3a inp...</td>\n",
       "      <td>2</td>\n",
       "      <td>31</td>\n",
       "      <td>[[16, 17, 18, 19, 20, 21, 22, 23, 24, 25, 16, ...</td>\n",
       "    </tr>\n",
       "    <tr>\n",
       "      <th>2</th>\n",
       "      <td>s3a prefetching stream to move off twitter Fut...</td>\n",
       "      <td>2</td>\n",
       "      <td>86</td>\n",
       "      <td>[[22, 23, 21, 25, 5, 56, 57, 58, 1, 59, 60, 5,...</td>\n",
       "    </tr>\n",
       "    <tr>\n",
       "      <th>3</th>\n",
       "      <td>test failures with prefetching s3a input strea...</td>\n",
       "      <td>2</td>\n",
       "      <td>19</td>\n",
       "      <td>[[108, 109, 110, 21, 22, 23, 24, 25, 111, 18, ...</td>\n",
       "    </tr>\n",
       "    <tr>\n",
       "      <th>4</th>\n",
       "      <td>IBM Java detected while running on OpenJDK cla...</td>\n",
       "      <td>2</td>\n",
       "      <td>389</td>\n",
       "      <td>[[115, 48, 116, 117, 118, 119, 120, 121, 99, 3...</td>\n",
       "    </tr>\n",
       "  </tbody>\n",
       "</table>\n",
       "</div>"
      ],
      "text/plain": [
       "                                             feature  b_labels  \\\n",
       "0  upgrade jackson-databind to 2.13.2.1 due to cv...         2   \n",
       "1  document use and design of prefetching s3a inp...         2   \n",
       "2  s3a prefetching stream to move off twitter Fut...         2   \n",
       "3  test failures with prefetching s3a input strea...         2   \n",
       "4  IBM Java detected while running on OpenJDK cla...         2   \n",
       "\n",
       "   feature_length                                            encoded  \n",
       "0               8  [[2, 3, 4, 5, 6, 7, 5, 8, 9, 10, 11, 12, 13, 3...  \n",
       "1              31  [[16, 17, 18, 19, 20, 21, 22, 23, 24, 25, 16, ...  \n",
       "2              86  [[22, 23, 21, 25, 5, 56, 57, 58, 1, 59, 60, 5,...  \n",
       "3              19  [[108, 109, 110, 21, 22, 23, 24, 25, 111, 18, ...  \n",
       "4             389  [[115, 48, 116, 117, 118, 119, 120, 121, 99, 3...  "
      ]
     },
     "execution_count": 17,
     "metadata": {},
     "output_type": "execute_result"
    }
   ],
   "source": [
    "data['encoded'] = data['feature'].apply(lambda x: np.array(encode_sentence(x,vocab2index )))\n",
    "data.head()"
   ]
  },
  {
   "cell_type": "code",
   "execution_count": 18,
   "id": "867d4c45",
   "metadata": {},
   "outputs": [
    {
     "data": {
      "text/plain": [
       "Counter({2: 705, 1: 207, 4: 31, 0: 26, 3: 31})"
      ]
     },
     "execution_count": 18,
     "metadata": {},
     "output_type": "execute_result"
    }
   ],
   "source": [
    "# Checking the balance of the dataset\n",
    "Counter(data['b_labels'])"
   ]
  },
  {
   "cell_type": "code",
   "execution_count": 19,
   "id": "4366d777",
   "metadata": {},
   "outputs": [],
   "source": [
    "X = list(data['encoded'])\n",
    "y = list(data['b_labels'])\n",
    "from sklearn.model_selection import train_test_split\n",
    "X_train, X_valid, y_train, y_valid = train_test_split(X, y, test_size=0.2)"
   ]
  },
  {
   "cell_type": "code",
   "execution_count": 20,
   "id": "a2e0b183",
   "metadata": {},
   "outputs": [],
   "source": [
    "# Creation of the HADOOP Dataset\n",
    "class HADOOPDataset(Dataset):\n",
    "    def __init__(self, X, Y):\n",
    "        self.X = X\n",
    "        self.y = Y\n",
    "        \n",
    "    def __len__(self):\n",
    "        return len(self.y)\n",
    "    \n",
    "    def __getitem__(self, idx):\n",
    "        return torch.from_numpy(self.X[idx][0].astype(np.int32)), self.y[idx], self.X[idx][1]"
   ]
  },
  {
   "cell_type": "code",
   "execution_count": 21,
   "id": "45bd7287",
   "metadata": {},
   "outputs": [],
   "source": [
    "# Training and Validation variables\n",
    "train_ds = HADOOPDataset(X_train, y_train)\n",
    "valid_ds = HADOOPDataset(X_valid, y_valid)"
   ]
  },
  {
   "cell_type": "code",
   "execution_count": 22,
   "id": "eca0b3ef",
   "metadata": {},
   "outputs": [],
   "source": [
    "# 2) Create a RNN model to classify an issue to a type"
   ]
  },
  {
   "cell_type": "code",
   "execution_count": 23,
   "id": "f39b6686",
   "metadata": {},
   "outputs": [],
   "source": [
    "# Creating the Training function and Evaluation Function\n",
    "def train_model(model, epochs=10, lr=0.001):\n",
    "    parameters = filter(lambda p: p.requires_grad, model.parameters())\n",
    "    optimizer = torch.optim.Adam(parameters, lr=lr)\n",
    "    for i in range(epochs):\n",
    "        model.train()\n",
    "        sum_loss = 0.0\n",
    "        total = 0\n",
    "        for x, y, l in train_dl:\n",
    "            x = x.long()\n",
    "            y = y.long()\n",
    "            y_pred = model(x, l)\n",
    "            optimizer.zero_grad()\n",
    "            loss = F.cross_entropy(y_pred, y)\n",
    "            loss.backward()\n",
    "            optimizer.step()\n",
    "            sum_loss += loss.item()*y.shape[0]\n",
    "            total += y.shape[0]\n",
    "        val_loss, val_acc, val_rmse = validation_metrics(model, val_dl)\n",
    "        if i % 5 == 1:\n",
    "            print(\"train loss %.3f, val loss %.3f, val accuracy %.3f, and val rmse %.3f\" % (sum_loss/total, val_loss, val_acc, val_rmse))\n",
    "            \n",
    "def validation_metrics (model, valid_dl):\n",
    "    model.eval()\n",
    "    correct = 0\n",
    "    total = 0\n",
    "    sum_loss = 0.0\n",
    "    sum_rmse = 0.0\n",
    "    for x, y, l in valid_dl:\n",
    "        x = x.long()\n",
    "        y = y.long()\n",
    "        y_hat = model(x, l)\n",
    "        loss = F.cross_entropy(y_hat, y)\n",
    "        pred = torch.max(y_hat, 1)[1]\n",
    "        correct += (pred == y).float().sum()\n",
    "        total += y.shape[0]\n",
    "        sum_loss += loss.item()*y.shape[0]\n",
    "        sum_rmse += np.sqrt(mean_squared_error(pred, y.unsqueeze(-1)))*y.shape[0]\n",
    "    return sum_loss/total, correct/total, sum_rmse/total"
   ]
  },
  {
   "cell_type": "code",
   "execution_count": 24,
   "id": "a19c617c",
   "metadata": {},
   "outputs": [],
   "source": [
    "# Defining the batch size and vocab size\n",
    "batch_size = 5000 \n",
    "vocab_size = len(words)\n",
    "train_dl = DataLoader(train_ds, batch_size=batch_size, shuffle=True)\n",
    "val_dl = DataLoader(valid_ds, batch_size=batch_size)"
   ]
  },
  {
   "cell_type": "markdown",
   "id": "49c9223a",
   "metadata": {},
   "source": [
    "### Training LSTM RNN for variable length input"
   ]
  },
  {
   "cell_type": "code",
   "execution_count": 25,
   "id": "1856fc3c",
   "metadata": {},
   "outputs": [],
   "source": [
    "# Class definition for the LSTM RNN\n",
    "class LSTM_variable_input(torch.nn.Module) :\n",
    "    def __init__(self, vocab_size, embedding_dim, hidden_dim) :\n",
    "        super().__init__()\n",
    "        self.hidden_dim = hidden_dim\n",
    "        self.dropout = nn.Dropout(0.3)\n",
    "        self.embeddings = nn.Embedding(vocab_size, embedding_dim, padding_idx=0)\n",
    "        self.lstm = nn.LSTM(embedding_dim, hidden_dim, batch_first=True)\n",
    "        self.linear = nn.Linear(hidden_dim, 5)\n",
    "        \n",
    "    def forward(self, x, s):\n",
    "        x = self.embeddings(x)\n",
    "        x = self.dropout(x)\n",
    "        x_pack = pack_padded_sequence(x, s, batch_first=True, enforce_sorted=False)\n",
    "        out_pack, (ht, ct) = self.lstm(x_pack)\n",
    "        out = self.linear(ht[-1])\n",
    "        return out"
   ]
  },
  {
   "cell_type": "code",
   "execution_count": 26,
   "id": "884527ae",
   "metadata": {},
   "outputs": [],
   "source": [
    "model = LSTM_variable_input(vocab_size, 50, 50)"
   ]
  },
  {
   "cell_type": "code",
   "execution_count": 27,
   "id": "5c6a0a85",
   "metadata": {},
   "outputs": [
    {
     "name": "stdout",
     "output_type": "stream",
     "text": [
      "train loss 1.130, val loss 1.400, val accuracy 0.725, and val rmse 0.707\n",
      "train loss 0.653, val loss 1.170, val accuracy 0.660, and val rmse 0.778\n",
      "train loss 0.409, val loss 1.646, val accuracy 0.610, and val rmse 0.815\n",
      "train loss 0.296, val loss 1.857, val accuracy 0.620, and val rmse 0.828\n",
      "train loss 0.191, val loss 2.159, val accuracy 0.580, and val rmse 0.880\n",
      "train loss 0.121, val loss 2.435, val accuracy 0.570, and val rmse 0.886\n"
     ]
    }
   ],
   "source": [
    "train_model(model, epochs=30, lr=0.1)"
   ]
  },
  {
   "cell_type": "code",
   "execution_count": 28,
   "id": "51c8829f",
   "metadata": {},
   "outputs": [
    {
     "name": "stdout",
     "output_type": "stream",
     "text": [
      "train loss 0.080, val loss 2.749, val accuracy 0.570, and val rmse 0.837\n",
      "train loss 0.067, val loss 3.207, val accuracy 0.565, and val rmse 0.854\n",
      "train loss 0.052, val loss 3.548, val accuracy 0.600, and val rmse 0.854\n",
      "train loss 0.047, val loss 3.583, val accuracy 0.570, and val rmse 0.903\n",
      "train loss 0.045, val loss 3.728, val accuracy 0.585, and val rmse 0.869\n",
      "train loss 0.029, val loss 3.942, val accuracy 0.580, and val rmse 0.854\n"
     ]
    }
   ],
   "source": [
    "train_model(model, epochs=30, lr=0.05)"
   ]
  },
  {
   "cell_type": "code",
   "execution_count": 29,
   "id": "65b423d7",
   "metadata": {},
   "outputs": [
    {
     "name": "stdout",
     "output_type": "stream",
     "text": [
      "train loss 0.027, val loss 4.135, val accuracy 0.635, and val rmse 0.803\n",
      "train loss 0.023, val loss 4.162, val accuracy 0.590, and val rmse 0.837\n",
      "train loss 0.026, val loss 4.341, val accuracy 0.610, and val rmse 0.843\n",
      "train loss 0.012, val loss 4.359, val accuracy 0.615, and val rmse 0.815\n",
      "train loss 0.017, val loss 4.486, val accuracy 0.580, and val rmse 0.914\n",
      "train loss 0.012, val loss 4.731, val accuracy 0.570, and val rmse 0.941\n"
     ]
    }
   ],
   "source": [
    "train_model(model, epochs=30, lr=0.05)"
   ]
  },
  {
   "cell_type": "markdown",
   "id": "b64f91c9",
   "metadata": {},
   "source": [
    "### Evaluation of the LSTM RNN for variable length input"
   ]
  },
  {
   "cell_type": "code",
   "execution_count": 30,
   "id": "e434b541",
   "metadata": {},
   "outputs": [
    {
     "name": "stdout",
     "output_type": "stream",
     "text": [
      "              precision    recall  f1-score   support\n",
      "\n",
      "     Trivial       0.00      0.00      0.00         7\n",
      "       Minor       0.20      0.14      0.17        35\n",
      "       Major       0.73      0.77      0.74       145\n",
      "     Blocker       0.00      0.00      0.00         5\n",
      "    Critical       0.12      0.12      0.12         8\n",
      "\n",
      "    accuracy                           0.58       200\n",
      "   macro avg       0.21      0.21      0.21       200\n",
      "weighted avg       0.57      0.58      0.57       200\n",
      "\n"
     ]
    },
    {
     "data": {
      "image/png": "[encoded data removed]",
      "text/plain": [
       "<Figure size 432x288 with 2 Axes>"
      ]
     },
     "metadata": {
      "needs_background": "light"
     },
     "output_type": "display_data"
    }
   ],
   "source": [
    "# Evaluation Function Definition\n",
    "from sklearn.metrics import accuracy_score, classification_report, confusion_matrix\n",
    "import matplotlib.pyplot as plt\n",
    "import seaborn as sns\n",
    "def evaluate(model, val_dl, version='title', threshold=0.5):\n",
    "    y_pred = []\n",
    "    y_true = []\n",
    "    target_names = ['Trivial', 'Minor','Major', 'Blocker', 'Critical']\n",
    "    model.eval()\n",
    "    with torch.no_grad():\n",
    "      for x, y, l in val_dl:\n",
    "        x = x.long()\n",
    "        y = y.long()\n",
    "        y_hat = model(x, l)\n",
    "        pred = torch.max(y_hat, 1)[1]\n",
    "        # print(\"pred\",pred)\n",
    "        y_pred.extend(pred.tolist())\n",
    "        y_true.extend(y.tolist())\n",
    "    print(classification_report(y_true, y_pred, target_names=target_names))\n",
    "\n",
    "\n",
    "    cm = confusion_matrix(y_true, y_pred, labels=[0,1,2,3,4])\n",
    "    ax= plt.subplot()\n",
    "    sns.heatmap(cm, annot=True, ax = ax, cmap='Blues', fmt=\"d\")\n",
    "\n",
    "    ax.set_title('Confusion Matrix')\n",
    "\n",
    "    ax.set_xlabel('Predicted Labels')\n",
    "    ax.set_ylabel('True Labels')\n",
    "    ax.xaxis.set_ticklabels(['Trivial', 'Minor','Major', 'Blocker', 'Critical'])\n",
    "    ax.yaxis.set_ticklabels(['Trivial', 'Minor','Major', 'Blocker', 'Critical'])\n",
    "    return y_pred,y_true\n",
    "y_pred,y_true= evaluate(model, val_dl)"
   ]
  },
  {
   "cell_type": "markdown",
   "id": "63e0b433",
   "metadata": {},
   "source": [
    "### Alternative: LSTM with pre-trained Glove word embeddings"
   ]
  },
  {
   "cell_type": "code",
   "execution_count": 31,
   "id": "f2b72eaf",
   "metadata": {},
   "outputs": [],
   "source": [
    "# To download the Glove repo and it's corresponding data\n",
    "import requests, zipfile, io\n",
    "r = requests.get(\"https://nlp.stanford.edu/data/glove.6B.zip\")\n",
    "z = zipfile.ZipFile(io.BytesIO(r.content))\n",
    "z.extractall(\"C:/Users/SIVA/Desktop/Practical_Project/Two_version\")"
   ]
  },
  {
   "cell_type": "code",
   "execution_count": 32,
   "id": "cfb69086",
   "metadata": {},
   "outputs": [],
   "source": [
    "# Defining the Glove function for word manipulations\n",
    "def load_glove_vectors(glove_file=\"./glove.6B.50d.txt\"):\n",
    "    \"\"\"Load the glove word vectors\"\"\"\n",
    "    word_vectors = {}\n",
    "    with open(glove_file, encoding=\"utf8\") as f:\n",
    "        for line in f:\n",
    "            split = line.split()\n",
    "            word_vectors[split[0]] = np.array([float(x) for x in split[1:]])\n",
    "    return word_vectors"
   ]
  },
  {
   "cell_type": "code",
   "execution_count": 33,
   "id": "c2682370",
   "metadata": {},
   "outputs": [],
   "source": [
    "# Function definition to create an embedding matrix\n",
    "def get_emb_matrix(pretrained, word_counts, emb_size = 50):\n",
    "    \"\"\" Creates embedding matrix from word vectors\"\"\"\n",
    "    vocab_size = len(word_counts) + 2\n",
    "    vocab_to_idx = {}\n",
    "    vocab = [\"\", \"UNK\"]\n",
    "    W = np.zeros((vocab_size, emb_size), dtype=\"float32\")\n",
    "    W[0] = np.zeros(emb_size, dtype='float32') # adding a vector for padding\n",
    "    W[1] = np.random.uniform(-0.25, 0.25, emb_size) # adding a vector for unknown words \n",
    "    vocab_to_idx[\"UNK\"] = 1\n",
    "    i = 2\n",
    "    for word in word_counts:\n",
    "        if word in word_vecs:\n",
    "            W[i] = word_vecs[word]\n",
    "        else:\n",
    "            W[i] = np.random.uniform(-0.25,0.25, emb_size)\n",
    "        vocab_to_idx[word] = i\n",
    "        vocab.append(word)\n",
    "        i += 1   \n",
    "    return W, np.array(vocab), vocab_to_idx"
   ]
  },
  {
   "cell_type": "code",
   "execution_count": 34,
   "id": "60e1ade1",
   "metadata": {},
   "outputs": [],
   "source": [
    "word_vecs = load_glove_vectors()\n",
    "pretrained_weights, vocab, vocab2index = get_emb_matrix(word_vecs, counts)"
   ]
  },
  {
   "cell_type": "code",
   "execution_count": 35,
   "id": "dc72df3a",
   "metadata": {},
   "outputs": [],
   "source": [
    "# LSTM with glove function definition\n",
    "class LSTM_glove_vecs(torch.nn.Module) :\n",
    "    def __init__(self, vocab_size, embedding_dim, hidden_dim, glove_weights) :\n",
    "        super().__init__()\n",
    "        self.embeddings = nn.Embedding(vocab_size, embedding_dim, padding_idx=0)\n",
    "        self.embeddings.weight.data.copy_(torch.from_numpy(glove_weights))\n",
    "        self.embeddings.weight.requires_grad = False ## freeze embeddings\n",
    "        self.lstm = nn.LSTM(embedding_dim, hidden_dim, batch_first=True)\n",
    "        self.linear = nn.Linear(hidden_dim, 5)\n",
    "        self.dropout = nn.Dropout(0.2)\n",
    "        \n",
    "    def forward(self, x, l):\n",
    "        x = self.embeddings(x)\n",
    "        x = self.dropout(x)\n",
    "        lstm_out, (ht, ct) = self.lstm(x)\n",
    "        return self.linear(ht[-1])"
   ]
  },
  {
   "cell_type": "code",
   "execution_count": 36,
   "id": "b41494c0",
   "metadata": {},
   "outputs": [],
   "source": [
    "model = LSTM_glove_vecs(vocab_size, 50, 50, pretrained_weights)"
   ]
  },
  {
   "cell_type": "code",
   "execution_count": 37,
   "id": "73d759a9",
   "metadata": {},
   "outputs": [
    {
     "name": "stdout",
     "output_type": "stream",
     "text": [
      "train loss 1.492, val loss 1.814, val accuracy 0.175, and val rmse 1.105\n",
      "train loss 0.923, val loss 0.890, val accuracy 0.725, and val rmse 0.707\n",
      "train loss 0.875, val loss 0.892, val accuracy 0.725, and val rmse 0.707\n",
      "train loss 0.862, val loss 0.902, val accuracy 0.725, and val rmse 0.707\n",
      "train loss 0.854, val loss 0.904, val accuracy 0.725, and val rmse 0.707\n",
      "train loss 0.833, val loss 0.902, val accuracy 0.725, and val rmse 0.707\n"
     ]
    }
   ],
   "source": [
    "train_model(model, epochs=30, lr=0.1)"
   ]
  },
  {
   "cell_type": "code",
   "execution_count": 38,
   "id": "86b563c1",
   "metadata": {},
   "outputs": [
    {
     "name": "stdout",
     "output_type": "stream",
     "text": [
      "train loss 0.881, val loss 0.904, val accuracy 0.725, and val rmse 0.707\n",
      "train loss 0.787, val loss 0.942, val accuracy 0.720, and val rmse 0.711\n",
      "train loss 0.755, val loss 0.949, val accuracy 0.690, and val rmse 0.731\n",
      "train loss 0.724, val loss 0.968, val accuracy 0.720, and val rmse 0.700\n",
      "train loss 0.690, val loss 0.995, val accuracy 0.710, and val rmse 0.707\n",
      "train loss 0.664, val loss 1.055, val accuracy 0.695, and val rmse 0.728\n"
     ]
    }
   ],
   "source": [
    "train_model(model, epochs=30, lr=0.05)"
   ]
  },
  {
   "cell_type": "code",
   "execution_count": 39,
   "id": "7d59dd1c",
   "metadata": {},
   "outputs": [
    {
     "name": "stdout",
     "output_type": "stream",
     "text": [
      "train loss 0.768, val loss 1.112, val accuracy 0.690, and val rmse 0.731\n",
      "train loss 0.612, val loss 1.102, val accuracy 0.675, and val rmse 0.778\n",
      "train loss 0.585, val loss 1.151, val accuracy 0.700, and val rmse 0.762\n",
      "train loss 0.581, val loss 1.164, val accuracy 0.695, and val rmse 0.784\n",
      "train loss 0.546, val loss 1.192, val accuracy 0.685, and val rmse 0.781\n",
      "train loss 0.537, val loss 1.228, val accuracy 0.705, and val rmse 0.748\n"
     ]
    }
   ],
   "source": [
    "train_model(model, epochs=30, lr=0.05)"
   ]
  },
  {
   "cell_type": "markdown",
   "id": "d24c280d",
   "metadata": {},
   "source": [
    "### Evaluation of the LSTM with Glove Model"
   ]
  },
  {
   "cell_type": "code",
   "execution_count": 40,
   "id": "d1e07016",
   "metadata": {},
   "outputs": [
    {
     "name": "stdout",
     "output_type": "stream",
     "text": [
      "              precision    recall  f1-score   support\n",
      "\n",
      "     Trivial       0.00      0.00      0.00         7\n",
      "       Minor       0.12      0.03      0.05        35\n",
      "       Major       0.73      0.94      0.82       145\n",
      "     Blocker       0.00      0.00      0.00         5\n",
      "    Critical       0.50      0.12      0.20         8\n",
      "\n",
      "    accuracy                           0.69       200\n",
      "   macro avg       0.27      0.22      0.21       200\n",
      "weighted avg       0.57      0.69      0.61       200\n",
      "\n"
     ]
    },
    {
     "data": {
      "image/png": "[encoded data removed]",
      "text/plain": [
       "<Figure size 432x288 with 2 Axes>"
      ]
     },
     "metadata": {
      "needs_background": "light"
     },
     "output_type": "display_data"
    }
   ],
   "source": [
    "# Evaluation Function\n",
    "from sklearn.metrics import accuracy_score, classification_report, confusion_matrix\n",
    "import matplotlib.pyplot as plt\n",
    "import seaborn as sns\n",
    "def evaluate(model, val_dl, version='title', threshold=0.5):\n",
    "    y_pred = []\n",
    "    y_true = []\n",
    "    target_names = ['Trivial', 'Minor','Major', 'Blocker', 'Critical']\n",
    "    model.eval()\n",
    "    with torch.no_grad():\n",
    "      for x, y, l in val_dl:\n",
    "        x = x.long()\n",
    "        y = y.long()\n",
    "        y_hat = model(x, l)\n",
    "        pred = torch.max(y_hat, 1)[1]\n",
    "        # print(\"pred\",pred)\n",
    "        y_pred.extend(pred.tolist())\n",
    "        y_true.extend(y.tolist())\n",
    "    print(classification_report(y_true, y_pred, target_names=target_names))\n",
    "\n",
    "\n",
    "    cm = confusion_matrix(y_true, y_pred, labels=[0,1,2,3,4])\n",
    "    ax= plt.subplot()\n",
    "    sns.heatmap(cm, annot=True, ax = ax, cmap='Blues', fmt=\"d\")\n",
    "\n",
    "    ax.set_title('Confusion Matrix')\n",
    "\n",
    "    ax.set_xlabel('Predicted Labels')\n",
    "    ax.set_ylabel('True Labels')\n",
    "    ax.xaxis.set_ticklabels(['Trivial', 'Minor','Major', 'Blocker', 'Critical'])\n",
    "    ax.yaxis.set_ticklabels(['Trivial', 'Minor','Major', 'Blocker', 'Critical'])\n",
    "    return y_pred,y_true\n",
    "y_pred,y_true= evaluate(model, val_dl)"
   ]
  },
  {
   "cell_type": "markdown",
   "id": "4d7ca273",
   "metadata": {},
   "source": [
    "The dataset used for this uses the key fields \"description\" and \"summary\" to predict the type of issue. The data which has been \n",
    "acquired through the HADOOP platform produces a dataset which has majorly the types as \"Major\" or \"Minor\" due which the training can be minorly biased towards only to these two types of issues. Two methods have been used for the purpose of training and evaluating."
   ]
  }
 ],
 "metadata": {
  "kernelspec": {
   "display_name": "Python 3 (ipykernel)",
   "language": "python",
   "name": "python3"
  },
  "language_info": {
   "codemirror_mode": {
    "name": "ipython",
    "version": 3
   },
   "file_extension": ".py",
   "mimetype": "text/x-python",
   "name": "python",
   "nbconvert_exporter": "python",
   "pygments_lexer": "ipython3",
   "version": "3.7.9"
  }
 },
 "nbformat": 4,
 "nbformat_minor": 5
}
